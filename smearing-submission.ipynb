{
 "cells": [
  {
   "cell_type": "code",
   "execution_count": 1,
   "metadata": {},
   "outputs": [],
   "source": [
    "import numpy as np\n",
    "import math\n",
    "# for timing operations\n",
    "import timeit\n",
    "# for graphs\n",
    "import matplotlib.pyplot as plt\n",
    "# for infinite sums/integrals and floats\n",
    "import mpmath\n",
    "# for saving photos\n",
    "import time"
   ]
  },
  {
   "cell_type": "code",
   "execution_count": 2,
   "metadata": {},
   "outputs": [],
   "source": [
    "# the first test in our paper\n",
    "Q = 53\n",
    "n = 2\n",
    "gamma = 2\n",
    "beta = 0.3\n",
    "# a sigma value used formerly that gives approximately the same value for beta\n",
    "# sigma = 6\n",
    "# beta = sigma/Q*math.sqrt(2*math.pi)\n",
    "M = 801\n",
    "\n",
    "# # Test in [4]\n",
    "# beta = 0.01\n",
    "# Q = 331\n",
    "# n = 9\n",
    "# gamma = 31\n",
    "# M = 6001\n",
    "\n",
    "# # x^5-6x+2, the other test in our paper\n",
    "# beta = 0.02\n",
    "# Q = 101\n",
    "# n = 5\n",
    "# gamma = 20\n",
    "# M = 2401"
   ]
  },
  {
   "cell_type": "code",
   "execution_count": 3,
   "metadata": {},
   "outputs": [],
   "source": [
    "factorials = np.zeros(M,dtype=object)\n",
    "for i in range(Q):\n",
    "    if i==0:\n",
    "        factorials[i] = 1\n",
    "    else:\n",
    "         factorials[i] = (i+1)*factorials[i-1]"
   ]
  },
  {
   "cell_type": "code",
   "execution_count": 4,
   "metadata": {},
   "outputs": [],
   "source": [
    "factorials = factorials.astype(np.longdouble)"
   ]
  },
  {
   "cell_type": "markdown",
   "metadata": {},
   "source": [
    "A recursive formula in $m$ -- Uniform case"
   ]
  },
  {
   "cell_type": "code",
   "execution_count": 5,
   "metadata": {},
   "outputs": [],
   "source": [
    "Pprev = np.zeros(M,dtype=np.longdouble)\n",
    "Pcurr = np.zeros(M,dtype=np.longdouble)\n",
    "\n",
    "for q in range(1, Q+1):\n",
    "    for m in range(M):\n",
    "        if m<q:\n",
    "            Pcurr[m] = np.longdouble(0)\n",
    "        elif q==1: # (and m>0 of course)\n",
    "            Pcurr[m] = np.longdouble(1)\n",
    "        elif m==q:\n",
    "            Pcurr[m] = factorials[q-1]*(1/q**q)\n",
    "        else:\n",
    "            Pcurr[m] = Pcurr[m-1]+Pprev[m-1]*((q-1)/q)**(m-1)\n",
    "#     if q==2:\n",
    "#         print(Pcurr)\n",
    "    Pprev = Pcurr.copy()"
   ]
  },
  {
   "cell_type": "markdown",
   "metadata": {},
   "source": [
    "Generating mapped distribution"
   ]
  },
  {
   "cell_type": "code",
   "execution_count": 6,
   "metadata": {},
   "outputs": [],
   "source": [
    "G = np.zeros(Q,dtype=np.longdouble)\n",
    "\n",
    "def psi(beta,x):\n",
    "    return mpmath.nsum(lambda k: (1/beta)*mpmath.exp(-mpmath.pi*((x-k)/beta)**2), [-mpmath.inf, mpmath.inf])\n",
    "\n",
    "for i in range(0, Q):\n",
    "    G[i] = mpmath.quad(lambda x: psi(beta, x), [(i-1/2)/Q, (i+1/2)/Q])"
   ]
  },
  {
   "cell_type": "code",
   "execution_count": 7,
   "metadata": {},
   "outputs": [
    {
     "data": {
      "image/png": "[encoded data removed]",
      "text/plain": [
       "<Figure size 432x288 with 1 Axes>"
      ]
     },
     "metadata": {
      "needs_background": "light"
     },
     "output_type": "display_data"
    }
   ],
   "source": [
    "plt.plot(range(-(Q//2),1+Q//2),np.roll(G,Q//2))\n",
    "plt.scatter(range(-(Q//2),1+Q//2),np.roll(G,Q//2))\n",
    "plt.savefig(time.strftime(\"%Y-%m-%d_%H:%M:%S_\")+'original-dist.png', facecolor='w', transparent=False)"
   ]
  },
  {
   "cell_type": "code",
   "execution_count": 8,
   "metadata": {},
   "outputs": [],
   "source": [
    "# const last\n",
    "# put leading coefficient first in array\n",
    "A = [gamma**k%Q for k in range(1,n)]\n",
    "\n",
    "c = np.flip(G)\n",
    "t = c\n",
    "for i in range(0, n-1):\n",
    "    temp = np.zeros((Q-1)*A[i]+1,dtype=np.longdouble)\n",
    "    temp[0:-1:A[i]] = c[0:-1]\n",
    "    temp[-1] = c[-1]\n",
    "    \n",
    "    modpoly = np.zeros(Q+1,dtype=np.longdouble)\n",
    "    modpoly[0] = 1\n",
    "    modpoly[-1] = -1\n",
    "    \n",
    "    t = np.convolve(t, temp)\n",
    "    t = np.polydiv(t,modpoly)[1]\n",
    "t = np.flip(t)"
   ]
  },
  {
   "cell_type": "code",
   "execution_count": 9,
   "metadata": {},
   "outputs": [
    {
     "data": {
      "image/png": "[encoded data removed]",
      "text/plain": [
       "<Figure size 432x288 with 1 Axes>"
      ]
     },
     "metadata": {
      "needs_background": "light"
     },
     "output_type": "display_data"
    }
   ],
   "source": [
    "plt.plot(range(-(Q//2),1+Q//2),np.roll(t,Q//2))\n",
    "plt.scatter(range(-(Q//2),1+Q//2),np.roll(t,Q//2))\n",
    "plt.savefig(time.strftime(\"%Y-%m-%d_%H:%M:%S_\")+'mapped-dist.png', facecolor='w', transparent=False)"
   ]
  },
  {
   "cell_type": "markdown",
   "metadata": {},
   "source": [
    "Recursive formula for non-uniform case"
   ]
  },
  {
   "cell_type": "code",
   "execution_count": 10,
   "metadata": {},
   "outputs": [],
   "source": [
    "prods = np.zeros(Q,dtype=np.longdouble)\n",
    "ps = np.zeros(Q,dtype=np.longdouble)\n",
    "\n",
    "for i in range(Q):\n",
    "    temp = t[0:i+1]/sum(t[0:i+1])\n",
    "    prods[i] = np.prod(temp)\n",
    "    ps[i] = temp[-1]"
   ]
  },
  {
   "cell_type": "markdown",
   "metadata": {},
   "source": [
    "One could make this more memory-efficient by having the longdouble matrix fill up as only maintaining two rows of the Sierpinski triangle at a time."
   ]
  },
  {
   "cell_type": "code",
   "execution_count": 11,
   "metadata": {},
   "outputs": [],
   "source": [
    "combs = np.zeros((M,M+1),dtype=object)\n",
    "combs[0,0] = 1\n",
    "for i in range(1,M):\n",
    "    for j in range(M+1):\n",
    "        combs[i,j] = combs[i-1,j-1]+combs[i-1,j]"
   ]
  },
  {
   "cell_type": "code",
   "execution_count": 12,
   "metadata": {},
   "outputs": [],
   "source": [
    "# This step takes a long time.\n",
    "combs = combs.astype(np.longdouble)"
   ]
  },
  {
   "cell_type": "code",
   "execution_count": 13,
   "metadata": {},
   "outputs": [
    {
     "name": "stdout",
     "output_type": "stream",
     "text": [
      "0 0.000205976000870578\n",
      "10 0.0011232249999011401\n",
      "20 0.0049427539997850545\n",
      "30 0.017823242000304163\n",
      "40 0.03933402899929206\n",
      "50 0.06917740399876493\n",
      "60 0.11232942000060575\n",
      "70 0.1676542370005336\n",
      "80 0.2429017840004235\n",
      "90 0.34151474199825316\n",
      "100 0.4446261939992837\n",
      "110 0.5594422319991281\n",
      "120 0.6850235259989859\n",
      "130 0.8419490159976704\n",
      "140 1.0056465140005457\n",
      "150 1.1946180159975484\n",
      "160 1.378588330000639\n",
      "170 1.5917242709983839\n",
      "180 1.8161156009991828\n",
      "190 2.0653892699992866\n",
      "200 2.3254143809972447\n",
      "210 2.5851889599980495\n",
      "220 2.8564976999987266\n",
      "230 3.14263139600007\n",
      "240 3.441908135999256\n",
      "250 3.755529595997359\n",
      "260 4.084269151000626\n",
      "270 4.42541235599856\n",
      "280 4.78457114900084\n",
      "290 5.154828460999852\n",
      "300 5.536942487997294\n",
      "310 5.926555784000811\n",
      "320 6.326172103999852\n",
      "330 6.738415149000502\n",
      "340 7.186610261000169\n",
      "350 7.646984617000271\n",
      "360 8.120188074997714\n",
      "370 8.602923114998703\n",
      "380 9.104956896000658\n",
      "390 9.61994574200071\n",
      "400 10.151345001999289\n",
      "410 10.7011578620004\n",
      "420 11.27038922399879\n",
      "430 11.841058483998495\n",
      "440 12.41703010099809\n",
      "450 12.995062434998545\n",
      "460 13.585942853998858\n",
      "470 14.193237964998843\n",
      "480 14.819583525997587\n",
      "490 15.45673710799747\n",
      "500 16.115522681000584\n",
      "510 16.78447478399903\n",
      "520 17.464475200999004\n",
      "530 18.1513399309988\n",
      "540 18.850855208998837\n",
      "550 19.567621739999595\n",
      "560 20.33460692600056\n",
      "570 21.11473045299863\n",
      "580 21.874214748997474\n",
      "590 22.695180458998948\n",
      "600 23.497994719000417\n",
      "610 24.30244717700043\n",
      "620 25.123107150997384\n",
      "630 25.952785544999642\n",
      "640 26.800262991000636\n",
      "650 27.665780000999803\n",
      "660 28.553611441999237\n",
      "670 29.45693760499853\n",
      "680 30.373310180999397\n",
      "690 31.299677123999572\n",
      "700 32.23146256199834\n",
      "710 33.17406278099952\n",
      "720 34.13970325400078\n",
      "730 35.09964623799897\n",
      "740 36.09578356199927\n",
      "750 37.11648559400055\n",
      "760 38.133326216997375\n",
      "770 39.16099661499902\n",
      "780 40.19479037199926\n",
      "790 41.245709553997585\n",
      "800 42.32308797599762\n"
     ]
    }
   ],
   "source": [
    "# first axis is how many elts are remaining +1, so idx 0 is 1 elt remaining (Q=1) and idx Q-1 is all Q elts in\n",
    "# Q = 10 means idx 0 is 1, idx 9 is 10\n",
    "# M = 2 means idx 0 is 0 and idx 1 is 1\n",
    "\n",
    "# for O(M*Q), longdouble mode\n",
    "R = np.zeros((M,Q),dtype=np.longdouble)\n",
    "\n",
    "# for O(M+Q), longdouble mode\n",
    "# Rprev = np.zeros(M,dtype=np.longdouble)\n",
    "# Rcurr = np.zeros(M,dtype=np.longdouble)\n",
    "    \n",
    "times = []\n",
    "start_time = timeit.default_timer()\n",
    "\n",
    "# q and m are the actual values, so for indexing P we need idx changes\n",
    "for m in range(M):\n",
    "    for q in range(1, Q+1):\n",
    "# begin O(M*Q) mode code\n",
    "        if m<q:\n",
    "            R[m,q-1] = np.longdouble(0)\n",
    "        elif q==1: # (and m>0 of course)\n",
    "            R[m,q-1] =  np.longdouble(1)\n",
    "        elif m==q:\n",
    "            R[m,q-1] = factorials[q-1]*prods[q-1]\n",
    "        else:\n",
    "            for k in range(1,m-q+2):\n",
    "                R[m,q-1] += combs[m,k]*ps[q-1]**k*(1-ps[q-1])**(m-k)*R[m-k,q-2]\n",
    "# end\n",
    "        \n",
    "# # begin O(M+Q) mode code     \n",
    "#         if m<q:\n",
    "#             Rcurr[m] = np.longdouble(0)\n",
    "#         elif q==1: # (and m>0 of course)\n",
    "#             Rcurr[m] = np.longdouble(1)\n",
    "#         elif m==q:\n",
    "#             Rcurr[m] = factorials[q-1]*prods[q-1]\n",
    "#         else:\n",
    "#             Rcurr[m] = np.longdouble(0)\n",
    "#             for k in range(1,m-q+2):\n",
    "#                 Rcurr[m] += combs[m,k]*ps[q-1]**k*(1-ps[q-1])**(m-k)*Rprev[m-k]\n",
    "#     Rprev = Rcurr.copy()\n",
    "# # end\n",
    "\n",
    "    if m%10==0: \n",
    "        cha = timeit.default_timer() - start_time\n",
    "        print(m,cha)\n",
    "        times.append(cha)\n",
    "#     if m%100==0:\n",
    "#         with open(time.strftime(\"%Y-%m-%d_%H:%M:%S_\")+str(m)+'.npy', 'wb') as f:\n",
    "#             np.save(f,R)"
   ]
  },
  {
   "cell_type": "code",
   "execution_count": 14,
   "metadata": {},
   "outputs": [
    {
     "data": {
      "image/png": "[encoded data removed]",
      "text/plain": [
       "<Figure size 432x288 with 1 Axes>"
      ]
     },
     "metadata": {
      "needs_background": "light"
     },
     "output_type": "display_data"
    }
   ],
   "source": [
    "plt.plot(range(len(times)),times)\n",
    "plt.savefig(time.strftime(\"%Y-%m-%d_%H:%M:%S\")+'times.png', facecolor='w', transparent=False)"
   ]
  },
  {
   "cell_type": "code",
   "execution_count": 15,
   "metadata": {},
   "outputs": [
    {
     "data": {
      "image/png": "[encoded data removed]",
      "text/plain": [
       "<Figure size 432x288 with 1 Axes>"
      ]
     },
     "metadata": {
      "needs_background": "light"
     },
     "output_type": "display_data"
    }
   ],
   "source": [
    "plt.plot(range(M),Pcurr)\n",
    "# plt.plot(range(M),Rcurr)\n",
    "\n",
    "# plt.plot(range(M),P[:,Q-1])\n",
    "plt.plot(range(M),R[:,Q-1])\n",
    "# plt.xlabel(\"m\")\n",
    "# plt.ylabel(\"P(m,\"+str(Q)+\")\")\n",
    "plt.savefig(time.strftime(\"%Y-%m-%d_%H:%M:%S\")+'uniformVs.png', facecolor='w', transparent=False)"
   ]
  },
  {
   "cell_type": "code",
   "execution_count": 16,
   "metadata": {},
   "outputs": [
    {
     "data": {
      "image/png": "[encoded data removed]",
      "text/plain": [
       "<Figure size 432x288 with 1 Axes>"
      ]
     },
     "metadata": {
      "needs_background": "light"
     },
     "output_type": "display_data"
    }
   ],
   "source": [
    "temp = 0.5*(1+Pcurr-R[:,Q-1])\n",
    "plt.ymin=0.0\n",
    "plt.ymax=1.0\n",
    "plt.plot(range(len(Pcurr)),temp)\n",
    "# plt.xlabel(\"m\")\n",
    "# plt.ylabel(\"Advantage\")\n",
    "plt.savefig(time.strftime(\"%Y-%m-%d_%H:%M:%S\")+'-advantage.png', facecolor='w', transparent=False)"
   ]
  }
 ],
 "metadata": {
  "@webio": {
   "lastCommId": null,
   "lastKernelId": null
  },
  "kernelspec": {
   "display_name": "Python 3",
   "language": "python",
   "name": "python3"
  },
  "language_info": {
   "codemirror_mode": {
    "name": "ipython",
    "version": 3
   },
   "file_extension": ".py",
   "mimetype": "text/x-python",
   "name": "python",
   "nbconvert_exporter": "python",
   "pygments_lexer": "ipython3",
   "version": "3.8.5"
  }
 },
 "nbformat": 4,
 "nbformat_minor": 4
}
